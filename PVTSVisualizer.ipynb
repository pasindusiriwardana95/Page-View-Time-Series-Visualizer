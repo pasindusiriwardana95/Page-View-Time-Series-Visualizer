{
 "cells": [
  {
   "cell_type": "code",
   "execution_count": 2,
   "id": "ec1a8378-a4aa-4e61-b5fc-5f930f06323f",
   "metadata": {},
   "outputs": [],
   "source": [
    "import matplotlib.pyplot as plt\n",
    "import pandas as pd\n",
    "import seaborn as sns\n",
    "import numpy as np\n",
    "import os\n",
    "from pandas.plotting import register_matplotlib_converters\n",
    "register_matplotlib_converters()"
   ]
  },
  {
   "cell_type": "code",
   "execution_count": 3,
   "id": "6f3ac2c9-0580-482a-b127-cdf9e52c8f5a",
   "metadata": {},
   "outputs": [
    {
     "data": {
      "text/plain": [
       "'C:\\\\Users\\\\Pasindu Siriwardana\\\\JupyterNoteBookFiles\\\\Projects\\\\Page-View-Time-Series-Visualizer'"
      ]
     },
     "execution_count": 3,
     "metadata": {},
     "output_type": "execute_result"
    }
   ],
   "source": [
    "os.getcwd()"
   ]
  },
  {
   "cell_type": "code",
   "execution_count": 30,
   "id": "5de5a00f-413a-4c95-8e41-3eee729165a7",
   "metadata": {},
   "outputs": [
    {
     "data": {
      "text/html": [
       "<div>\n",
       "<style scoped>\n",
       "    .dataframe tbody tr th:only-of-type {\n",
       "        vertical-align: middle;\n",
       "    }\n",
       "\n",
       "    .dataframe tbody tr th {\n",
       "        vertical-align: top;\n",
       "    }\n",
       "\n",
       "    .dataframe thead th {\n",
       "        text-align: right;\n",
       "    }\n",
       "</style>\n",
       "<table border=\"1\" class=\"dataframe\">\n",
       "  <thead>\n",
       "    <tr style=\"text-align: right;\">\n",
       "      <th></th>\n",
       "      <th>value</th>\n",
       "    </tr>\n",
       "    <tr>\n",
       "      <th>date</th>\n",
       "      <th></th>\n",
       "    </tr>\n",
       "  </thead>\n",
       "  <tbody>\n",
       "    <tr>\n",
       "      <th>2016-05-09</th>\n",
       "      <td>1201</td>\n",
       "    </tr>\n",
       "    <tr>\n",
       "      <th>2016-05-10</th>\n",
       "      <td>2329</td>\n",
       "    </tr>\n",
       "    <tr>\n",
       "      <th>2016-05-11</th>\n",
       "      <td>1716</td>\n",
       "    </tr>\n",
       "    <tr>\n",
       "      <th>2016-05-12</th>\n",
       "      <td>10539</td>\n",
       "    </tr>\n",
       "    <tr>\n",
       "      <th>2016-05-13</th>\n",
       "      <td>6933</td>\n",
       "    </tr>\n",
       "  </tbody>\n",
       "</table>\n",
       "</div>"
      ],
      "text/plain": [
       "            value\n",
       "date             \n",
       "2016-05-09   1201\n",
       "2016-05-10   2329\n",
       "2016-05-11   1716\n",
       "2016-05-12  10539\n",
       "2016-05-13   6933"
      ]
     },
     "execution_count": 30,
     "metadata": {},
     "output_type": "execute_result"
    }
   ],
   "source": [
    "df = pd.read_csv(\n",
    "    filepath_or_buffer = 'fcc-forum-pageviews.csv',\n",
    "    parse_dates = ['date'],\n",
    "    index_col = 'date'\n",
    ")\n",
    "df.head()"
   ]
  },
  {
   "cell_type": "code",
   "execution_count": 48,
   "id": "7005a0b6-8279-4b19-88ce-4d173dd852a1",
   "metadata": {},
   "outputs": [
    {
     "name": "stdout",
     "output_type": "stream",
     "text": [
      "<class 'pandas.core.frame.DataFrame'>\n",
      "DatetimeIndex: 1304 entries, 2016-05-09 to 2019-12-03\n",
      "Data columns (total 1 columns):\n",
      " #   Column  Non-Null Count  Dtype\n",
      "---  ------  --------------  -----\n",
      " 0   value   1304 non-null   int64\n",
      "dtypes: int64(1)\n",
      "memory usage: 20.4 KB\n"
     ]
    }
   ],
   "source": [
    "df.info()"
   ]
  },
  {
   "cell_type": "code",
   "execution_count": 49,
   "id": "2154853d-bad1-491c-908e-eb128458f623",
   "metadata": {},
   "outputs": [
    {
     "data": {
      "text/plain": [
       "value    1304\n",
       "dtype: int64"
      ]
     },
     "execution_count": 49,
     "metadata": {},
     "output_type": "execute_result"
    }
   ],
   "source": [
    "df.count()"
   ]
  },
  {
   "cell_type": "code",
   "execution_count": 50,
   "id": "34c5c167-3e2c-4920-b51e-fd000d9ad7fd",
   "metadata": {},
   "outputs": [
    {
     "data": {
      "text/plain": [
       "value    False\n",
       "dtype: bool"
      ]
     },
     "execution_count": 50,
     "metadata": {},
     "output_type": "execute_result"
    }
   ],
   "source": [
    "df.isna().any()"
   ]
  },
  {
   "cell_type": "code",
   "execution_count": 51,
   "id": "2b114f31-087d-4c79-8761-65db0217c607",
   "metadata": {},
   "outputs": [
    {
     "data": {
      "text/plain": [
       "<AxesSubplot:xlabel='date'>"
      ]
     },
     "execution_count": 51,
     "metadata": {},
     "output_type": "execute_result"
    },
    {
     "data": {
      "image/png": "[encoded data removed]",
      "text/plain": [
       "<Figure size 432x288 with 1 Axes>"
      ]
     },
     "metadata": {
      "needs_background": "light"
     },
     "output_type": "display_data"
    }
   ],
   "source": [
    "df.plot()"
   ]
  },
  {
   "cell_type": "code",
   "execution_count": 4,
   "id": "b16297a5-2d95-48f1-95ed-5ec5914ac1ab",
   "metadata": {},
   "outputs": [
    {
     "data": {
      "text/html": [
       "<div>\n",
       "<style scoped>\n",
       "    .dataframe tbody tr th:only-of-type {\n",
       "        vertical-align: middle;\n",
       "    }\n",
       "\n",
       "    .dataframe tbody tr th {\n",
       "        vertical-align: top;\n",
       "    }\n",
       "\n",
       "    .dataframe thead th {\n",
       "        text-align: right;\n",
       "    }\n",
       "</style>\n",
       "<table border=\"1\" class=\"dataframe\">\n",
       "  <thead>\n",
       "    <tr style=\"text-align: right;\">\n",
       "      <th></th>\n",
       "      <th>value</th>\n",
       "    </tr>\n",
       "    <tr>\n",
       "      <th>date</th>\n",
       "      <th></th>\n",
       "    </tr>\n",
       "  </thead>\n",
       "  <tbody>\n",
       "    <tr>\n",
       "      <th>2019-06-17</th>\n",
       "      <td>1173655</td>\n",
       "    </tr>\n",
       "    <tr>\n",
       "      <th>2019-06-18</th>\n",
       "      <td>1166225</td>\n",
       "    </tr>\n",
       "  </tbody>\n",
       "</table>\n",
       "</div>"
      ],
      "text/plain": [
       "              value\n",
       "date               \n",
       "2019-06-17  1173655\n",
       "2019-06-18  1166225"
      ]
     },
     "execution_count": 4,
     "metadata": {},
     "output_type": "execute_result"
    }
   ],
   "source": [
    "df.loc['2019-06-17':'2019-06-18']"
   ]
  },
  {
   "cell_type": "code",
   "execution_count": 31,
   "id": "d8929e00-079b-4b05-a190-398a7ed112c5",
   "metadata": {},
   "outputs": [],
   "source": [
    "# df.loc['2019-06-17':'2019-06-18'].value = round(df.value.mean(), 0)\n",
    "# df.replace(df.loc['2019-06-17':'2019-06-18'], value = round(df.value.mean(), 0))\n",
    "# df.loc['2019-08-05':'2019-08-12']\n",
    "# df.head()\n",
    "df = df.drop(['2019-06-17', '2019-06-18'])\n",
    "df = df.drop(['2019-08-06', '2019-08-07'])\n",
    "# df.loc['2019-08-06':'2019-08-07']"
   ]
  },
  {
   "cell_type": "code",
   "execution_count": 32,
   "id": "10185a24-de65-46bd-b502-e39a598b5f33",
   "metadata": {},
   "outputs": [],
   "source": [
    "def draw_line_plot():\n",
    "    fig = df.plot(\n",
    "                color = 'red', \n",
    "                title = 'Daily freeCodeCamp Forum Page Views 5/2016-12/2019', \n",
    "                xlabel = 'Date',\n",
    "                ylabel = 'Page Views'\n",
    "            )\n",
    "    print(fig)"
   ]
  },
  {
   "cell_type": "code",
   "execution_count": 33,
   "id": "d1008c32-ca15-438d-a6f3-91a86081d6c1",
   "metadata": {},
   "outputs": [
    {
     "name": "stdout",
     "output_type": "stream",
     "text": [
      "AxesSubplot(0.125,0.2;0.775x0.68)\n"
     ]
    },
    {
     "data": {
      "image/png": "[encoded data removed]",
      "text/plain": [
       "<Figure size 432x288 with 1 Axes>"
      ]
     },
     "metadata": {
      "needs_background": "light"
     },
     "output_type": "display_data"
    }
   ],
   "source": [
    "draw_line_plot()"
   ]
  },
  {
   "cell_type": "code",
   "execution_count": 74,
   "id": "2d4a33ec-b550-45d1-94ce-81c96d7c4c52",
   "metadata": {},
   "outputs": [
    {
     "data": {
      "text/plain": [
       "65527.0"
      ]
     },
     "execution_count": 74,
     "metadata": {},
     "output_type": "execute_result"
    }
   ],
   "source": [
    "round(df.value.mean(), 0)"
   ]
  },
  {
   "cell_type": "code",
   "execution_count": 93,
   "id": "bac9467e-3141-431e-b65c-b2f699ea2c3f",
   "metadata": {},
   "outputs": [
    {
     "data": {
      "text/plain": [
       "<AxesSubplot:xlabel='date'>"
      ]
     },
     "execution_count": 93,
     "metadata": {},
     "output_type": "execute_result"
    },
    {
     "data": {
      "image/png": "[encoded data removed]",
      "text/plain": [
       "<Figure size 432x288 with 1 Axes>"
      ]
     },
     "metadata": {
      "needs_background": "light"
     },
     "output_type": "display_data"
    }
   ],
   "source": [
    "# Clean the data by filtering out days when the page views were in the top 2.5% of the dataset or bottom 2.5% of the dataset.\n",
    "\n",
    "# df[(df.value == round(df.value.quantile(0.975), 0)) | (df.value == round(df.value.quantile(0.025), 0))]\n",
    "# df.head()\n",
    "\n",
    "df[(df.value <= round(df.value.quantile(0.975), 0)) | (df.value >= round(df.value.quantile(0.025), 0))].plot()"
   ]
  },
  {
   "cell_type": "code",
   "execution_count": 97,
   "id": "be4c2a68-a7e2-4b25-8c4b-289132bf2766",
   "metadata": {},
   "outputs": [
    {
     "data": {
      "text/html": [
       "<div>\n",
       "<style scoped>\n",
       "    .dataframe tbody tr th:only-of-type {\n",
       "        vertical-align: middle;\n",
       "    }\n",
       "\n",
       "    .dataframe tbody tr th {\n",
       "        vertical-align: top;\n",
       "    }\n",
       "\n",
       "    .dataframe thead th {\n",
       "        text-align: right;\n",
       "    }\n",
       "</style>\n",
       "<table border=\"1\" class=\"dataframe\">\n",
       "  <thead>\n",
       "    <tr style=\"text-align: right;\">\n",
       "      <th></th>\n",
       "      <th>value</th>\n",
       "    </tr>\n",
       "    <tr>\n",
       "      <th>date</th>\n",
       "      <th></th>\n",
       "    </tr>\n",
       "  </thead>\n",
       "  <tbody>\n",
       "    <tr>\n",
       "      <th>2016-05-09</th>\n",
       "      <td>1201</td>\n",
       "    </tr>\n",
       "    <tr>\n",
       "      <th>2016-05-10</th>\n",
       "      <td>2329</td>\n",
       "    </tr>\n",
       "    <tr>\n",
       "      <th>2016-05-11</th>\n",
       "      <td>1716</td>\n",
       "    </tr>\n",
       "    <tr>\n",
       "      <th>2016-05-12</th>\n",
       "      <td>10539</td>\n",
       "    </tr>\n",
       "    <tr>\n",
       "      <th>2016-05-13</th>\n",
       "      <td>6933</td>\n",
       "    </tr>\n",
       "  </tbody>\n",
       "</table>\n",
       "</div>"
      ],
      "text/plain": [
       "            value\n",
       "date             \n",
       "2016-05-09   1201\n",
       "2016-05-10   2329\n",
       "2016-05-11   1716\n",
       "2016-05-12  10539\n",
       "2016-05-13   6933"
      ]
     },
     "execution_count": 97,
     "metadata": {},
     "output_type": "execute_result"
    }
   ],
   "source": [
    "df.head()"
   ]
  },
  {
   "cell_type": "code",
   "execution_count": 116,
   "id": "24da7df7-0bae-4138-82f1-f3f740f07bda",
   "metadata": {},
   "outputs": [
    {
     "data": {
      "text/plain": [
       "\u001b[1;31mSignature:\u001b[0m \u001b[0msum\u001b[0m\u001b[1;33m(\u001b[0m\u001b[0miterable\u001b[0m\u001b[1;33m,\u001b[0m \u001b[1;33m/\u001b[0m\u001b[1;33m,\u001b[0m \u001b[0mstart\u001b[0m\u001b[1;33m=\u001b[0m\u001b[1;36m0\u001b[0m\u001b[1;33m)\u001b[0m\u001b[1;33m\u001b[0m\u001b[1;33m\u001b[0m\u001b[0m\n",
       "\u001b[1;31mDocstring:\u001b[0m\n",
       "Return the sum of a 'start' value (default: 0) plus an iterable of numbers\n",
       "\n",
       "When the iterable is empty, return the start value.\n",
       "This function is intended specifically for use with numeric values and may\n",
       "reject non-numeric types.\n",
       "\u001b[1;31mType:\u001b[0m      builtin_function_or_method\n"
      ]
     },
     "metadata": {},
     "output_type": "display_data"
    }
   ],
   "source": [
    "df.groupby('date').sum?"
   ]
  },
  {
   "cell_type": "code",
   "execution_count": null,
   "id": "eea4bb4a-89a3-4068-af78-27e73e3280de",
   "metadata": {},
   "outputs": [],
   "source": [
    "df.groupby('date').sum"
   ]
  },
  {
   "cell_type": "code",
   "execution_count": 34,
   "id": "835f0b0c-e59d-4509-a9b6-e8169ff0c6b0",
   "metadata": {},
   "outputs": [
    {
     "name": "stdout",
     "output_type": "stream",
     "text": [
      "<class 'pandas.core.frame.DataFrame'>\n",
      "DatetimeIndex: 1300 entries, 2016-05-09 to 2019-12-03\n",
      "Data columns (total 1 columns):\n",
      " #   Column  Non-Null Count  Dtype\n",
      "---  ------  --------------  -----\n",
      " 0   value   1300 non-null   int64\n",
      "dtypes: int64(1)\n",
      "memory usage: 20.3 KB\n"
     ]
    }
   ],
   "source": [
    "df_month = df.copy(deep = True)\n",
    "df_month.info()"
   ]
  },
  {
   "cell_type": "code",
   "execution_count": 35,
   "id": "fe19b0cf-ecff-4a74-a5b4-c3617b825ee2",
   "metadata": {},
   "outputs": [],
   "source": [
    "df_month = df_month.reset_index()"
   ]
  },
  {
   "cell_type": "code",
   "execution_count": 36,
   "id": "8628ef0f-751c-46e0-ada8-1a778268fe44",
   "metadata": {},
   "outputs": [
    {
     "name": "stdout",
     "output_type": "stream",
     "text": [
      "<class 'pandas.core.frame.DataFrame'>\n",
      "RangeIndex: 1300 entries, 0 to 1299\n",
      "Data columns (total 2 columns):\n",
      " #   Column  Non-Null Count  Dtype         \n",
      "---  ------  --------------  -----         \n",
      " 0   date    1300 non-null   datetime64[ns]\n",
      " 1   value   1300 non-null   int64         \n",
      "dtypes: datetime64[ns](1), int64(1)\n",
      "memory usage: 20.4 KB\n"
     ]
    }
   ],
   "source": [
    "df_month.info()"
   ]
  },
  {
   "cell_type": "code",
   "execution_count": 37,
   "id": "bb20864a-0f84-46eb-8fcd-f68f1c9768db",
   "metadata": {},
   "outputs": [
    {
     "data": {
      "text/html": [
       "<div>\n",
       "<style scoped>\n",
       "    .dataframe tbody tr th:only-of-type {\n",
       "        vertical-align: middle;\n",
       "    }\n",
       "\n",
       "    .dataframe tbody tr th {\n",
       "        vertical-align: top;\n",
       "    }\n",
       "\n",
       "    .dataframe thead th {\n",
       "        text-align: right;\n",
       "    }\n",
       "</style>\n",
       "<table border=\"1\" class=\"dataframe\">\n",
       "  <thead>\n",
       "    <tr style=\"text-align: right;\">\n",
       "      <th></th>\n",
       "      <th>date</th>\n",
       "      <th>value</th>\n",
       "    </tr>\n",
       "  </thead>\n",
       "  <tbody>\n",
       "    <tr>\n",
       "      <th>0</th>\n",
       "      <td>2016-05-09</td>\n",
       "      <td>1201</td>\n",
       "    </tr>\n",
       "    <tr>\n",
       "      <th>1</th>\n",
       "      <td>2016-05-10</td>\n",
       "      <td>2329</td>\n",
       "    </tr>\n",
       "    <tr>\n",
       "      <th>2</th>\n",
       "      <td>2016-05-11</td>\n",
       "      <td>1716</td>\n",
       "    </tr>\n",
       "    <tr>\n",
       "      <th>3</th>\n",
       "      <td>2016-05-12</td>\n",
       "      <td>10539</td>\n",
       "    </tr>\n",
       "    <tr>\n",
       "      <th>4</th>\n",
       "      <td>2016-05-13</td>\n",
       "      <td>6933</td>\n",
       "    </tr>\n",
       "  </tbody>\n",
       "</table>\n",
       "</div>"
      ],
      "text/plain": [
       "        date  value\n",
       "0 2016-05-09   1201\n",
       "1 2016-05-10   2329\n",
       "2 2016-05-11   1716\n",
       "3 2016-05-12  10539\n",
       "4 2016-05-13   6933"
      ]
     },
     "execution_count": 37,
     "metadata": {},
     "output_type": "execute_result"
    }
   ],
   "source": [
    "df_month.head()"
   ]
  },
  {
   "cell_type": "code",
   "execution_count": 38,
   "id": "91e2a5ad-fedc-438a-b575-108b5e5c6456",
   "metadata": {},
   "outputs": [],
   "source": [
    "df_month['month'] = pd.DatetimeIndex(df_month['date']).month_name()\n",
    "df_month['year'] = pd.DatetimeIndex(df_month['date']).year"
   ]
  },
  {
   "cell_type": "code",
   "execution_count": 39,
   "id": "62a56e58-fabf-433e-9924-1bc9ca5de87e",
   "metadata": {},
   "outputs": [
    {
     "data": {
      "text/html": [
       "<div>\n",
       "<style scoped>\n",
       "    .dataframe tbody tr th:only-of-type {\n",
       "        vertical-align: middle;\n",
       "    }\n",
       "\n",
       "    .dataframe tbody tr th {\n",
       "        vertical-align: top;\n",
       "    }\n",
       "\n",
       "    .dataframe thead th {\n",
       "        text-align: right;\n",
       "    }\n",
       "</style>\n",
       "<table border=\"1\" class=\"dataframe\">\n",
       "  <thead>\n",
       "    <tr style=\"text-align: right;\">\n",
       "      <th></th>\n",
       "      <th>date</th>\n",
       "      <th>value</th>\n",
       "      <th>month</th>\n",
       "      <th>year</th>\n",
       "    </tr>\n",
       "  </thead>\n",
       "  <tbody>\n",
       "    <tr>\n",
       "      <th>0</th>\n",
       "      <td>2016-05-09</td>\n",
       "      <td>1201</td>\n",
       "      <td>May</td>\n",
       "      <td>2016</td>\n",
       "    </tr>\n",
       "    <tr>\n",
       "      <th>1</th>\n",
       "      <td>2016-05-10</td>\n",
       "      <td>2329</td>\n",
       "      <td>May</td>\n",
       "      <td>2016</td>\n",
       "    </tr>\n",
       "    <tr>\n",
       "      <th>2</th>\n",
       "      <td>2016-05-11</td>\n",
       "      <td>1716</td>\n",
       "      <td>May</td>\n",
       "      <td>2016</td>\n",
       "    </tr>\n",
       "    <tr>\n",
       "      <th>3</th>\n",
       "      <td>2016-05-12</td>\n",
       "      <td>10539</td>\n",
       "      <td>May</td>\n",
       "      <td>2016</td>\n",
       "    </tr>\n",
       "    <tr>\n",
       "      <th>4</th>\n",
       "      <td>2016-05-13</td>\n",
       "      <td>6933</td>\n",
       "      <td>May</td>\n",
       "      <td>2016</td>\n",
       "    </tr>\n",
       "  </tbody>\n",
       "</table>\n",
       "</div>"
      ],
      "text/plain": [
       "        date  value month  year\n",
       "0 2016-05-09   1201   May  2016\n",
       "1 2016-05-10   2329   May  2016\n",
       "2 2016-05-11   1716   May  2016\n",
       "3 2016-05-12  10539   May  2016\n",
       "4 2016-05-13   6933   May  2016"
      ]
     },
     "execution_count": 39,
     "metadata": {},
     "output_type": "execute_result"
    }
   ],
   "source": [
    "df_month.head()"
   ]
  },
  {
   "cell_type": "code",
   "execution_count": 40,
   "id": "ee44c658-cd2e-4b18-8637-7b9a2f8284a2",
   "metadata": {},
   "outputs": [
    {
     "data": {
      "text/plain": [
       "year  month   \n",
       "2016  August      31049.193548\n",
       "      December    27832.419355\n",
       "      July        23314.225806\n",
       "      June        19124.366667\n",
       "      May         11242.695652\n",
       "Name: value, dtype: float64"
      ]
     },
     "execution_count": 40,
     "metadata": {},
     "output_type": "execute_result"
    }
   ],
   "source": [
    "df_year = df_month.groupby(['year','month'])['value'].mean()\n",
    "#  # year, month\n",
    "# df_year.plot(\n",
    "#     kind = 'bar',\n",
    "#     figsize = (10,10),\n",
    "#     legend = df_year.month.tolist()\n",
    "# )\n",
    "# df_year = df_month.groupby(['month'])['value'].mean()\n",
    "# df_year = df_year.groupby('year')\n",
    "df_year.head()"
   ]
  },
  {
   "cell_type": "code",
   "execution_count": 159,
   "id": "e355a472-950d-4795-b5b9-361cd1ed2ec1",
   "metadata": {},
   "outputs": [
    {
     "data": {
      "text/plain": [
       "[[30, 25, 50, 20], [40, 23, 51, 17], [35, 22, 45, 19]]"
      ]
     },
     "execution_count": 159,
     "metadata": {},
     "output_type": "execute_result"
    }
   ],
   "source": [
    "data = [[30, 25, 50, 20],\n",
    "[40, 23, 51, 17],\n",
    "[35, 22, 45, 19]]\n",
    "\n",
    "data"
   ]
  },
  {
   "cell_type": "code",
   "execution_count": 162,
   "id": "3076ee83-fb8f-4ec7-b626-864665a05362",
   "metadata": {},
   "outputs": [
    {
     "data": {
      "text/plain": [
       "<BarContainer object of 4 artists>"
      ]
     },
     "execution_count": 162,
     "metadata": {},
     "output_type": "execute_result"
    },
    {
     "data": {
      "image/png": "[encoded data removed]",
      "text/plain": [
       "<Figure size 432x288 with 1 Axes>"
      ]
     },
     "metadata": {
      "needs_background": "light"
     },
     "output_type": "display_data"
    }
   ],
   "source": [
    "X = np.arange(4)\n",
    "fig = plt.figure()\n",
    "ax = fig.add_axes([0,0,1,1])\n",
    "ax.bar(X + 0.00, data[0], color = 'b', width = 0.25)\n",
    "ax.bar(X + 0.25, data[1], color = 'g', width = 0.25)\n",
    "ax.bar(X + 0.50, data[2], color = 'r', width = 0.25)"
   ]
  },
  {
   "cell_type": "code",
   "execution_count": 41,
   "id": "28640d82-6835-4f31-847f-cb8e878cb693",
   "metadata": {},
   "outputs": [
    {
     "name": "stdout",
     "output_type": "stream",
     "text": [
      "<class 'pandas.core.frame.DataFrame'>\n",
      "RangeIndex: 44 entries, 0 to 43\n",
      "Data columns (total 3 columns):\n",
      " #   Column  Non-Null Count  Dtype  \n",
      "---  ------  --------------  -----  \n",
      " 0   year    44 non-null     int64  \n",
      " 1   month   44 non-null     object \n",
      " 2   value   44 non-null     float64\n",
      "dtypes: float64(1), int64(1), object(1)\n",
      "memory usage: 1.2+ KB\n"
     ]
    }
   ],
   "source": [
    "df_year = df_year.reset_index()\n",
    "df_year.info()"
   ]
  },
  {
   "cell_type": "code",
   "execution_count": 42,
   "id": "5db59edb-3d1b-468a-be99-14102713f75d",
   "metadata": {},
   "outputs": [
    {
     "data": {
      "text/plain": [
       "<AxesSubplot:xlabel='year', ylabel='value'>"
      ]
     },
     "execution_count": 42,
     "metadata": {},
     "output_type": "execute_result"
    },
    {
     "data": {
      "image/png": "[encoded data removed]",
      "text/plain": [
       "<Figure size 720x720 with 1 Axes>"
      ]
     },
     "metadata": {
      "needs_background": "light"
     },
     "output_type": "display_data"
    }
   ],
   "source": [
    "fig, ax = plt.subplots(figsize = (10,10))\n",
    "\n",
    "sns.barplot(\n",
    "    data = df_year,\n",
    "    x = 'year',\n",
    "    y = 'value',\n",
    "    hue = 'month'\n",
    ")"
   ]
  },
  {
   "cell_type": "code",
   "execution_count": 43,
   "id": "5a1a78b4-9a42-45dc-b815-3998f11125e6",
   "metadata": {},
   "outputs": [],
   "source": [
    "# Create a draw_bar_plot function that draws a bar chart similar to \"examples/Figure_2.png\". It should show average daily page views for each month grouped by year. \n",
    "# The legend should show month labels and have a title of Months. \n",
    "# On the chart, the label on the x axis should be Years and the label on the y axis should be Average Page Views.\n",
    "\n",
    "def draw_bar_plot():\n",
    "    df_month = df.copy(deep = True)\n",
    "    df_month = df_month.reset_index()\n",
    "    df_month['month'] = pd.DatetimeIndex(df_month['date']).month_name()\n",
    "    df_month['year'] = pd.DatetimeIndex(df_month['date']).year\n",
    "    df_year = df_month.groupby(['year','month'])['value'].mean() # create multiindex series\n",
    "    df_year = df_year.reset_index() # converting the mulit indexed series to a dataframe\n",
    "    \n",
    "    # Draw the bar plot\n",
    "    fig, ax = plt.subplots(figsize = (10,10))\n",
    "\n",
    "    sns.barplot(\n",
    "        data = df_year,\n",
    "        x = 'year',\n",
    "        y = 'value',\n",
    "        hue = 'month'\n",
    "    )\n"
   ]
  },
  {
   "cell_type": "code",
   "execution_count": 44,
   "id": "6483a2ab-ab75-41f5-a465-7bc4f6f669b8",
   "metadata": {},
   "outputs": [
    {
     "data": {
      "image/png": "[encoded data removed]",
      "text/plain": [
       "<Figure size 720x720 with 1 Axes>"
      ]
     },
     "metadata": {
      "needs_background": "light"
     },
     "output_type": "display_data"
    }
   ],
   "source": [
    "draw_bar_plot()"
   ]
  },
  {
   "cell_type": "code",
   "execution_count": 91,
   "id": "7e5f51a1-1cbc-4329-b15b-bd752098b272",
   "metadata": {},
   "outputs": [],
   "source": [
    "def draw_box_plot():\n",
    "    # Prepare the data\n",
    "    df_box = df.copy(deep = True)\n",
    "    df_box = df_box.reset_index()\n",
    "    df_box['year'] = [d.year for d in df_box.date]\n",
    "    df_box['month'] = [d.strftime('%b') for d in df_box.date]\n",
    "    \n",
    "    fig, (ax1, ax2) = plt.subplots(nrows = 1, ncols = 2, figsize = (20,20))\n",
    "    \n",
    "    sns.boxplot(ax=ax1, data=df_box, x=\"year\", y=\"value\")\n",
    "    sns.boxplot(ax=ax2, data=df_box, x=\"month\", y=\"value\")\n",
    "    \n",
    "    ax1.set_xlabel(\"Year\")\n",
    "    ax1.set_ylabel(\"Page Views\")\n",
    "    \n",
    "    ax2.set_xlabel(\"Month\")\n",
    "    ax2.set_ylabel(\"Page Views\")\n",
    "    \n",
    "#     bplot1 = ax1.boxplot(data=df_box, x=\"year\", y=\"value\")\n",
    "#     ax1.set_title(\"Year-wise Box Plot(Trend)\")\n",
    "#     ax1.set_xlabel(\"Year\")\n",
    "#     ax1.set_ylabel(\"Page Views\")\n",
    "    \n",
    "#     bplot2 = ax2.boxplot(data = df_box, x=\"month\", y=\"value\")\n",
    "#     ax2.set_title(\"Month-wise Box Plot(Seasonality)\")\n",
    "#     ax2.set_xlabel(\"Month\")\n",
    "#     ax2.set_ylabel(\"Page Views\")\n",
    "    \n",
    "    # plt.show()"
   ]
  },
  {
   "cell_type": "code",
   "execution_count": 92,
   "id": "690288d0-a264-4889-9605-5cd6a99d4404",
   "metadata": {},
   "outputs": [
    {
     "name": "stdout",
     "output_type": "stream",
     "text": [
      "None\n"
     ]
    },
    {
     "data": {
      "image/png": "[encoded data removed]",
      "text/plain": [
       "<Figure size 1440x1440 with 2 Axes>"
      ]
     },
     "metadata": {
      "needs_background": "light"
     },
     "output_type": "display_data"
    }
   ],
   "source": [
    "print(draw_box_plot())"
   ]
  },
  {
   "cell_type": "code",
   "execution_count": null,
   "id": "a2c82354-82ea-4cd4-9e8b-aaf4c055942c",
   "metadata": {},
   "outputs": [],
   "source": []
  }
 ],
 "metadata": {
  "kernelspec": {
   "display_name": "Python 3 (ipykernel)",
   "language": "python",
   "name": "python3"
  },
  "language_info": {
   "codemirror_mode": {
    "name": "ipython",
    "version": 3
   },
   "file_extension": ".py",
   "mimetype": "text/x-python",
   "name": "python",
   "nbconvert_exporter": "python",
   "pygments_lexer": "ipython3",
   "version": "3.9.12"
  }
 },
 "nbformat": 4,
 "nbformat_minor": 5
}
